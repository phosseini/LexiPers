{
 "cells": [
  {
   "cell_type": "markdown",
   "metadata": {},
   "source": [
    "## LexiPers API"
   ]
  },
  {
   "cell_type": "code",
   "execution_count": 6,
   "metadata": {},
   "outputs": [],
   "source": [
    "from lexipy import LexiPy"
   ]
  },
  {
   "cell_type": "markdown",
   "metadata": {},
   "source": [
    "## Reading synsets"
   ]
  },
  {
   "cell_type": "code",
   "execution_count": 7,
   "metadata": {},
   "outputs": [],
   "source": [
    "obj = LexiPy()\n",
    "\n",
    "# Labels:\n",
    "# Positive: \"+1\"\n",
    "# Neutral: \"0\"\n",
    "# Negative: \"-1\"\n",
    "\n",
    "# reading LexiPers entires into a pandas data frame\n",
    "df = obj.read_lexicon(labels=[\"+1\", \"0\"])"
   ]
  },
  {
   "cell_type": "code",
   "execution_count": 8,
   "metadata": {},
   "outputs": [
    {
     "data": {
      "text/html": [
       "<div>\n",
       "<style scoped>\n",
       "    .dataframe tbody tr th:only-of-type {\n",
       "        vertical-align: middle;\n",
       "    }\n",
       "\n",
       "    .dataframe tbody tr th {\n",
       "        vertical-align: top;\n",
       "    }\n",
       "\n",
       "    .dataframe thead th {\n",
       "        text-align: right;\n",
       "    }\n",
       "</style>\n",
       "<table border=\"1\" class=\"dataframe\">\n",
       "  <thead>\n",
       "    <tr style=\"text-align: right;\">\n",
       "      <th></th>\n",
       "      <th>ID</th>\n",
       "      <th>SynID</th>\n",
       "      <th>POS</th>\n",
       "      <th>Sense</th>\n",
       "      <th>Gloss</th>\n",
       "      <th>Example</th>\n",
       "      <th>Label</th>\n",
       "    </tr>\n",
       "  </thead>\n",
       "  <tbody>\n",
       "    <tr>\n",
       "      <th>0</th>\n",
       "      <td>1</td>\n",
       "      <td>1</td>\n",
       "      <td>Adjective</td>\n",
       "      <td>[روکار, خارجه, خارجي, بيروني]</td>\n",
       "      <td>مربوط، منسوب يا متعلق به خارج</td>\n",
       "      <td>کشورهاي خارجي</td>\n",
       "      <td>0</td>\n",
       "    </tr>\n",
       "    <tr>\n",
       "      <th>1</th>\n",
       "      <td>2</td>\n",
       "      <td>2</td>\n",
       "      <td>Adjective</td>\n",
       "      <td>[توکار, دروني, داخلي]</td>\n",
       "      <td>مربوط ،منسوب يا متعلق به داخل</td>\n",
       "      <td>نيروهاي داخلي</td>\n",
       "      <td>0</td>\n",
       "    </tr>\n",
       "    <tr>\n",
       "      <th>2</th>\n",
       "      <td>3</td>\n",
       "      <td>3</td>\n",
       "      <td>Adjective</td>\n",
       "      <td>[سرد, خنک]</td>\n",
       "      <td>داراي سردي ملايم و خوشايند</td>\n",
       "      <td>آب خنک</td>\n",
       "      <td>+1</td>\n",
       "    </tr>\n",
       "    <tr>\n",
       "      <th>3</th>\n",
       "      <td>4</td>\n",
       "      <td>4</td>\n",
       "      <td>Adjective</td>\n",
       "      <td>[گرم, گداخته, داغ]</td>\n",
       "      <td>داراي گرماي سوزان</td>\n",
       "      <td>هواي گرم</td>\n",
       "      <td>0</td>\n",
       "    </tr>\n",
       "    <tr>\n",
       "      <th>4</th>\n",
       "      <td>5</td>\n",
       "      <td>5</td>\n",
       "      <td>Adjective</td>\n",
       "      <td>[نزديک, خودماني, همدل, شفيق, محبت‌آميز, مهربان...</td>\n",
       "      <td>داراي رفتاري صميمانه</td>\n",
       "      <td>انسان معمولا با دوستان صميمي درددل مي کند</td>\n",
       "      <td>0</td>\n",
       "    </tr>\n",
       "  </tbody>\n",
       "</table>\n",
       "</div>"
      ],
      "text/plain": [
       "  ID SynID        POS                                              Sense  \\\n",
       "0  1     1  Adjective                      [روکار, خارجه, خارجي, بيروني]   \n",
       "1  2     2  Adjective                              [توکار, دروني, داخلي]   \n",
       "2  3     3  Adjective                                         [سرد, خنک]   \n",
       "3  4     4  Adjective                                 [گرم, گداخته, داغ]   \n",
       "4  5     5  Adjective  [نزديک, خودماني, همدل, شفيق, محبت‌آميز, مهربان...   \n",
       "\n",
       "                           Gloss                                    Example  \\\n",
       "0  مربوط، منسوب يا متعلق به خارج                              کشورهاي خارجي   \n",
       "1  مربوط ،منسوب يا متعلق به داخل                              نيروهاي داخلي   \n",
       "2     داراي سردي ملايم و خوشايند                                     آب خنک   \n",
       "3              داراي گرماي سوزان                                   هواي گرم   \n",
       "4           داراي رفتاري صميمانه  انسان معمولا با دوستان صميمي درددل مي کند   \n",
       "\n",
       "  Label  \n",
       "0     0  \n",
       "1     0  \n",
       "2    +1  \n",
       "3     0  \n",
       "4     0  "
      ]
     },
     "execution_count": 8,
     "metadata": {},
     "output_type": "execute_result"
    }
   ],
   "source": [
    "df.head()"
   ]
  },
  {
   "cell_type": "code",
   "execution_count": 9,
   "metadata": {},
   "outputs": [
    {
     "name": "stdout",
     "output_type": "stream",
     "text": [
      "ID                                     1\n",
      "SynID                                  1\n",
      "POS                            Adjective\n",
      "Sense      [روکار, خارجه, خارجي, بيروني]\n",
      "Gloss      مربوط، منسوب يا متعلق به خارج\n",
      "Example                    کشورهاي خارجي\n",
      "Label                                  0\n",
      "Name: 0, dtype: object\n"
     ]
    }
   ],
   "source": [
    "# iterating through rows in df\n",
    "for index, row in df.iterrows():\n",
    "    print(row)\n",
    "    # remove the break if you want to go through all rows\n",
    "    break    "
   ]
  },
  {
   "cell_type": "code",
   "execution_count": 10,
   "metadata": {},
   "outputs": [
    {
     "name": "stdout",
     "output_type": "stream",
     "text": [
      "sense list:  ['روکار', 'خارجه', 'خارجي', 'بيروني']\n",
      "gloss:  مربوط، منسوب يا متعلق به خارج\n",
      "example:  کشورهاي خارجي\n",
      "label:  0\n"
     ]
    }
   ],
   "source": [
    "for index, row in df.iterrows():\n",
    "    # printing columns by name\n",
    "    print(\"sense list: \", row.Sense)\n",
    "    print(\"gloss: \", row.Gloss)\n",
    "    print(\"example: \", row.Example)\n",
    "    print(\"label: \", row.Label)\n",
    "    # remove the break if you want to go through all rows\n",
    "    break"
   ]
  },
  {
   "cell_type": "markdown",
   "metadata": {},
   "source": [
    "## Updating labels\n",
    "We also included a method to update the labels of LexiPers synsets in the copy version."
   ]
  },
  {
   "cell_type": "code",
   "execution_count": 17,
   "metadata": {},
   "outputs": [
    {
     "data": {
      "text/plain": [
       "ID                                     1\n",
       "SynID                                  1\n",
       "POS                            Adjective\n",
       "Sense      [روکار, خارجه, خارجي, بيروني]\n",
       "Gloss      مربوط، منسوب يا متعلق به خارج\n",
       "Example                    کشورهاي خارجي\n",
       "Label                                  0\n",
       "Name: 0, dtype: object"
      ]
     },
     "execution_count": 17,
     "metadata": {},
     "output_type": "execute_result"
    }
   ],
   "source": [
    "# before update\n",
    "df.iloc[0]"
   ]
  },
  {
   "cell_type": "code",
   "execution_count": 19,
   "metadata": {},
   "outputs": [
    {
     "name": "stdout",
     "output_type": "stream",
     "text": [
      "ID                                     1\n",
      "SynID                                  1\n",
      "POS                            Adjective\n",
      "Sense      [روکار, خارجه, خارجي, بيروني]\n",
      "Gloss      مربوط، منسوب يا متعلق به خارج\n",
      "Example                    کشورهاي خارجي\n",
      "Label                                 +1\n",
      "Name: 0, dtype: object\n"
     ]
    }
   ],
   "source": [
    "# updating\n",
    "\n",
    "# step 1: put pairs of IDs and new labels in a dictionary:\n",
    "id_label = {\"1\": \"+1\"}\n",
    "\n",
    "# step 2: call the method to update like the following:\n",
    "obj.update_labels(id_label)\n",
    "\n",
    "# resutl after updating\n",
    "df = obj.read_lexicon()\n",
    "print(df.iloc[0])"
   ]
  },
  {
   "cell_type": "markdown",
   "metadata": {},
   "source": [
    "### Citation Information"
   ]
  },
  {
   "cell_type": "markdown",
   "metadata": {},
   "source": [
    "If you found LexiPers interesting or used it in your work, please use the following infomration for citation:"
   ]
  },
  {
   "cell_type": "markdown",
   "metadata": {},
   "source": [
    "#### BibTeX"
   ]
  },
  {
   "cell_type": "raw",
   "metadata": {},
   "source": [
    "@inproceedings{sabeti2016lexipers,\n",
    "  title={LexiPers: An ontology based sentiment lexicon for Persian},\n",
    "  author={Sabeti, Behnam and Hosseini, Pedram and Ghassem-Sani, Gholamreza and Mirroshandel, Seyed Abolghasem},\n",
    "  booktitle={2nd Global Conference on Artificial Intelligence (GCAI)},\n",
    "  volume={41},\n",
    "  pages={329--339},\n",
    "  year={2016},\n",
    "  organization={EasyChair}\n",
    "}"
   ]
  },
  {
   "cell_type": "code",
   "execution_count": null,
   "metadata": {},
   "outputs": [],
   "source": []
  }
 ],
 "metadata": {
  "kernelspec": {
   "display_name": "Python 3",
   "language": "python",
   "name": "python3"
  },
  "language_info": {
   "codemirror_mode": {
    "name": "ipython",
    "version": 3
   },
   "file_extension": ".py",
   "mimetype": "text/x-python",
   "name": "python",
   "nbconvert_exporter": "python",
   "pygments_lexer": "ipython3",
   "version": "3.7.2"
  }
 },
 "nbformat": 4,
 "nbformat_minor": 2
}
